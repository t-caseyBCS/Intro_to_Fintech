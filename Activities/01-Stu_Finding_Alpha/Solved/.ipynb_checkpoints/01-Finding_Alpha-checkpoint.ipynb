version https://git-lfs.github.com/spec/v1
oid sha256:57184102f4eb1a800de1deb28fb08ba82f66cf9c09ab7d5a4f6f4c813467e074
size 37943
